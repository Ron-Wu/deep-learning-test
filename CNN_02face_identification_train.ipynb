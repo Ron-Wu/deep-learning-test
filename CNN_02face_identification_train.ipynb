{
  "nbformat": 4,
  "nbformat_minor": 0,
  "metadata": {
    "colab": {
      "name": "02face_identification_train.ipynb",
      "provenance": [],
      "collapsed_sections": [],
      "include_colab_link": true
    },
    "kernelspec": {
      "name": "python3",
      "display_name": "Python 3"
    },
    "language_info": {
      "codemirror_mode": {
        "name": "ipython",
        "version": 3
      },
      "file_extension": ".py",
      "mimetype": "text/x-python",
      "name": "python",
      "nbconvert_exporter": "python",
      "pygments_lexer": "ipython3",
      "version": "3.6.6"
    },
    "accelerator": "GPU",
    "widgets": {
      "application/vnd.jupyter.widget-state+json": {
        "02b063a31a0845588cad3488de638db0": {
          "model_module": "@jupyter-widgets/controls",
          "model_name": "HBoxModel",
          "model_module_version": "1.5.0",
          "state": {
            "_view_name": "HBoxView",
            "_dom_classes": [],
            "_model_name": "HBoxModel",
            "_view_module": "@jupyter-widgets/controls",
            "_model_module_version": "1.5.0",
            "_view_count": null,
            "_view_module_version": "1.5.0",
            "box_style": "",
            "layout": "IPY_MODEL_392c2f4f6ada4afc8fa1a336f6b05c6e",
            "_model_module": "@jupyter-widgets/controls",
            "children": [
              "IPY_MODEL_d0413bf6d962440ca98bd0200bba9df6",
              "IPY_MODEL_fd1c49394fec4a2680474b7fda46418d",
              "IPY_MODEL_17aa568001084c1c895582c3d30e5063"
            ]
          }
        },
        "392c2f4f6ada4afc8fa1a336f6b05c6e": {
          "model_module": "@jupyter-widgets/base",
          "model_name": "LayoutModel",
          "model_module_version": "1.2.0",
          "state": {
            "_view_name": "LayoutView",
            "grid_template_rows": null,
            "right": null,
            "justify_content": null,
            "_view_module": "@jupyter-widgets/base",
            "overflow": null,
            "_model_module_version": "1.2.0",
            "_view_count": null,
            "flex_flow": null,
            "width": null,
            "min_width": null,
            "border": null,
            "align_items": null,
            "bottom": null,
            "_model_module": "@jupyter-widgets/base",
            "top": null,
            "grid_column": null,
            "overflow_y": null,
            "overflow_x": null,
            "grid_auto_flow": null,
            "grid_area": null,
            "grid_template_columns": null,
            "flex": null,
            "_model_name": "LayoutModel",
            "justify_items": null,
            "grid_row": null,
            "max_height": null,
            "align_content": null,
            "visibility": null,
            "align_self": null,
            "height": null,
            "min_height": null,
            "padding": null,
            "grid_auto_rows": null,
            "grid_gap": null,
            "max_width": null,
            "order": null,
            "_view_module_version": "1.2.0",
            "grid_template_areas": null,
            "object_position": null,
            "object_fit": null,
            "grid_auto_columns": null,
            "margin": null,
            "display": null,
            "left": null
          }
        },
        "d0413bf6d962440ca98bd0200bba9df6": {
          "model_module": "@jupyter-widgets/controls",
          "model_name": "HTMLModel",
          "model_module_version": "1.5.0",
          "state": {
            "_view_name": "HTMLView",
            "style": "IPY_MODEL_dd444a8138ca4303a51cfdfa3ecfcd95",
            "_dom_classes": [],
            "description": "",
            "_model_name": "HTMLModel",
            "placeholder": "​",
            "_view_module": "@jupyter-widgets/controls",
            "_model_module_version": "1.5.0",
            "value": "100%",
            "_view_count": null,
            "_view_module_version": "1.5.0",
            "description_tooltip": null,
            "_model_module": "@jupyter-widgets/controls",
            "layout": "IPY_MODEL_71e79e358adf4d46a41a2ce1d8e689c5"
          }
        },
        "fd1c49394fec4a2680474b7fda46418d": {
          "model_module": "@jupyter-widgets/controls",
          "model_name": "FloatProgressModel",
          "model_module_version": "1.5.0",
          "state": {
            "_view_name": "ProgressView",
            "style": "IPY_MODEL_d8b39f906dd64e99b56f312eca4b1b30",
            "_dom_classes": [],
            "description": "",
            "_model_name": "FloatProgressModel",
            "bar_style": "success",
            "max": 93,
            "_view_module": "@jupyter-widgets/controls",
            "_model_module_version": "1.5.0",
            "value": 93,
            "_view_count": null,
            "_view_module_version": "1.5.0",
            "orientation": "horizontal",
            "min": 0,
            "description_tooltip": null,
            "_model_module": "@jupyter-widgets/controls",
            "layout": "IPY_MODEL_a4521123a44d41b583496fdd954324aa"
          }
        },
        "17aa568001084c1c895582c3d30e5063": {
          "model_module": "@jupyter-widgets/controls",
          "model_name": "HTMLModel",
          "model_module_version": "1.5.0",
          "state": {
            "_view_name": "HTMLView",
            "style": "IPY_MODEL_a5467462d7ca4fc383576a22eacbe1a7",
            "_dom_classes": [],
            "description": "",
            "_model_name": "HTMLModel",
            "placeholder": "​",
            "_view_module": "@jupyter-widgets/controls",
            "_model_module_version": "1.5.0",
            "value": " 93/93 [00:32&lt;00:00,  3.73it/s]",
            "_view_count": null,
            "_view_module_version": "1.5.0",
            "description_tooltip": null,
            "_model_module": "@jupyter-widgets/controls",
            "layout": "IPY_MODEL_1fbcfb6a1e5a432489fbd96d73d5ffc6"
          }
        },
        "dd444a8138ca4303a51cfdfa3ecfcd95": {
          "model_module": "@jupyter-widgets/controls",
          "model_name": "DescriptionStyleModel",
          "model_module_version": "1.5.0",
          "state": {
            "_view_name": "StyleView",
            "_model_name": "DescriptionStyleModel",
            "description_width": "",
            "_view_module": "@jupyter-widgets/base",
            "_model_module_version": "1.5.0",
            "_view_count": null,
            "_view_module_version": "1.2.0",
            "_model_module": "@jupyter-widgets/controls"
          }
        },
        "71e79e358adf4d46a41a2ce1d8e689c5": {
          "model_module": "@jupyter-widgets/base",
          "model_name": "LayoutModel",
          "model_module_version": "1.2.0",
          "state": {
            "_view_name": "LayoutView",
            "grid_template_rows": null,
            "right": null,
            "justify_content": null,
            "_view_module": "@jupyter-widgets/base",
            "overflow": null,
            "_model_module_version": "1.2.0",
            "_view_count": null,
            "flex_flow": null,
            "width": null,
            "min_width": null,
            "border": null,
            "align_items": null,
            "bottom": null,
            "_model_module": "@jupyter-widgets/base",
            "top": null,
            "grid_column": null,
            "overflow_y": null,
            "overflow_x": null,
            "grid_auto_flow": null,
            "grid_area": null,
            "grid_template_columns": null,
            "flex": null,
            "_model_name": "LayoutModel",
            "justify_items": null,
            "grid_row": null,
            "max_height": null,
            "align_content": null,
            "visibility": null,
            "align_self": null,
            "height": null,
            "min_height": null,
            "padding": null,
            "grid_auto_rows": null,
            "grid_gap": null,
            "max_width": null,
            "order": null,
            "_view_module_version": "1.2.0",
            "grid_template_areas": null,
            "object_position": null,
            "object_fit": null,
            "grid_auto_columns": null,
            "margin": null,
            "display": null,
            "left": null
          }
        },
        "d8b39f906dd64e99b56f312eca4b1b30": {
          "model_module": "@jupyter-widgets/controls",
          "model_name": "ProgressStyleModel",
          "model_module_version": "1.5.0",
          "state": {
            "_view_name": "StyleView",
            "_model_name": "ProgressStyleModel",
            "description_width": "",
            "_view_module": "@jupyter-widgets/base",
            "_model_module_version": "1.5.0",
            "_view_count": null,
            "_view_module_version": "1.2.0",
            "bar_color": null,
            "_model_module": "@jupyter-widgets/controls"
          }
        },
        "a4521123a44d41b583496fdd954324aa": {
          "model_module": "@jupyter-widgets/base",
          "model_name": "LayoutModel",
          "model_module_version": "1.2.0",
          "state": {
            "_view_name": "LayoutView",
            "grid_template_rows": null,
            "right": null,
            "justify_content": null,
            "_view_module": "@jupyter-widgets/base",
            "overflow": null,
            "_model_module_version": "1.2.0",
            "_view_count": null,
            "flex_flow": null,
            "width": null,
            "min_width": null,
            "border": null,
            "align_items": null,
            "bottom": null,
            "_model_module": "@jupyter-widgets/base",
            "top": null,
            "grid_column": null,
            "overflow_y": null,
            "overflow_x": null,
            "grid_auto_flow": null,
            "grid_area": null,
            "grid_template_columns": null,
            "flex": null,
            "_model_name": "LayoutModel",
            "justify_items": null,
            "grid_row": null,
            "max_height": null,
            "align_content": null,
            "visibility": null,
            "align_self": null,
            "height": null,
            "min_height": null,
            "padding": null,
            "grid_auto_rows": null,
            "grid_gap": null,
            "max_width": null,
            "order": null,
            "_view_module_version": "1.2.0",
            "grid_template_areas": null,
            "object_position": null,
            "object_fit": null,
            "grid_auto_columns": null,
            "margin": null,
            "display": null,
            "left": null
          }
        },
        "a5467462d7ca4fc383576a22eacbe1a7": {
          "model_module": "@jupyter-widgets/controls",
          "model_name": "DescriptionStyleModel",
          "model_module_version": "1.5.0",
          "state": {
            "_view_name": "StyleView",
            "_model_name": "DescriptionStyleModel",
            "description_width": "",
            "_view_module": "@jupyter-widgets/base",
            "_model_module_version": "1.5.0",
            "_view_count": null,
            "_view_module_version": "1.2.0",
            "_model_module": "@jupyter-widgets/controls"
          }
        },
        "1fbcfb6a1e5a432489fbd96d73d5ffc6": {
          "model_module": "@jupyter-widgets/base",
          "model_name": "LayoutModel",
          "model_module_version": "1.2.0",
          "state": {
            "_view_name": "LayoutView",
            "grid_template_rows": null,
            "right": null,
            "justify_content": null,
            "_view_module": "@jupyter-widgets/base",
            "overflow": null,
            "_model_module_version": "1.2.0",
            "_view_count": null,
            "flex_flow": null,
            "width": null,
            "min_width": null,
            "border": null,
            "align_items": null,
            "bottom": null,
            "_model_module": "@jupyter-widgets/base",
            "top": null,
            "grid_column": null,
            "overflow_y": null,
            "overflow_x": null,
            "grid_auto_flow": null,
            "grid_area": null,
            "grid_template_columns": null,
            "flex": null,
            "_model_name": "LayoutModel",
            "justify_items": null,
            "grid_row": null,
            "max_height": null,
            "align_content": null,
            "visibility": null,
            "align_self": null,
            "height": null,
            "min_height": null,
            "padding": null,
            "grid_auto_rows": null,
            "grid_gap": null,
            "max_width": null,
            "order": null,
            "_view_module_version": "1.2.0",
            "grid_template_areas": null,
            "object_position": null,
            "object_fit": null,
            "grid_auto_columns": null,
            "margin": null,
            "display": null,
            "left": null
          }
        },
        "6a921acca4a64e2ea1f68ca1a9fde4c1": {
          "model_module": "@jupyter-widgets/controls",
          "model_name": "HBoxModel",
          "model_module_version": "1.5.0",
          "state": {
            "_view_name": "HBoxView",
            "_dom_classes": [],
            "_model_name": "HBoxModel",
            "_view_module": "@jupyter-widgets/controls",
            "_model_module_version": "1.5.0",
            "_view_count": null,
            "_view_module_version": "1.5.0",
            "box_style": "",
            "layout": "IPY_MODEL_84c0f573bc944a698fdb0025db7cf3dd",
            "_model_module": "@jupyter-widgets/controls",
            "children": [
              "IPY_MODEL_22b6bab1eedc4accb6c7f4384ad142d0",
              "IPY_MODEL_02032b10e903461eb9c5666b880c1227",
              "IPY_MODEL_bc39cedb68dd47f0af90e8c9df9e515d"
            ]
          }
        },
        "84c0f573bc944a698fdb0025db7cf3dd": {
          "model_module": "@jupyter-widgets/base",
          "model_name": "LayoutModel",
          "model_module_version": "1.2.0",
          "state": {
            "_view_name": "LayoutView",
            "grid_template_rows": null,
            "right": null,
            "justify_content": null,
            "_view_module": "@jupyter-widgets/base",
            "overflow": null,
            "_model_module_version": "1.2.0",
            "_view_count": null,
            "flex_flow": null,
            "width": null,
            "min_width": null,
            "border": null,
            "align_items": null,
            "bottom": null,
            "_model_module": "@jupyter-widgets/base",
            "top": null,
            "grid_column": null,
            "overflow_y": null,
            "overflow_x": null,
            "grid_auto_flow": null,
            "grid_area": null,
            "grid_template_columns": null,
            "flex": null,
            "_model_name": "LayoutModel",
            "justify_items": null,
            "grid_row": null,
            "max_height": null,
            "align_content": null,
            "visibility": null,
            "align_self": null,
            "height": null,
            "min_height": null,
            "padding": null,
            "grid_auto_rows": null,
            "grid_gap": null,
            "max_width": null,
            "order": null,
            "_view_module_version": "1.2.0",
            "grid_template_areas": null,
            "object_position": null,
            "object_fit": null,
            "grid_auto_columns": null,
            "margin": null,
            "display": null,
            "left": null
          }
        },
        "22b6bab1eedc4accb6c7f4384ad142d0": {
          "model_module": "@jupyter-widgets/controls",
          "model_name": "HTMLModel",
          "model_module_version": "1.5.0",
          "state": {
            "_view_name": "HTMLView",
            "style": "IPY_MODEL_16cdfa88d49048318eda938f481feccc",
            "_dom_classes": [],
            "description": "",
            "_model_name": "HTMLModel",
            "placeholder": "​",
            "_view_module": "@jupyter-widgets/controls",
            "_model_module_version": "1.5.0",
            "value": "100%",
            "_view_count": null,
            "_view_module_version": "1.5.0",
            "description_tooltip": null,
            "_model_module": "@jupyter-widgets/controls",
            "layout": "IPY_MODEL_f64d8eeb1dea4b3daa463f1a30e42b24"
          }
        },
        "02032b10e903461eb9c5666b880c1227": {
          "model_module": "@jupyter-widgets/controls",
          "model_name": "FloatProgressModel",
          "model_module_version": "1.5.0",
          "state": {
            "_view_name": "ProgressView",
            "style": "IPY_MODEL_4556fd7ee7734085b97f93b607912072",
            "_dom_classes": [],
            "description": "",
            "_model_name": "FloatProgressModel",
            "bar_style": "success",
            "max": 25,
            "_view_module": "@jupyter-widgets/controls",
            "_model_module_version": "1.5.0",
            "value": 25,
            "_view_count": null,
            "_view_module_version": "1.5.0",
            "orientation": "horizontal",
            "min": 0,
            "description_tooltip": null,
            "_model_module": "@jupyter-widgets/controls",
            "layout": "IPY_MODEL_924d798be72e4812ab461ae59f6c4d18"
          }
        },
        "bc39cedb68dd47f0af90e8c9df9e515d": {
          "model_module": "@jupyter-widgets/controls",
          "model_name": "HTMLModel",
          "model_module_version": "1.5.0",
          "state": {
            "_view_name": "HTMLView",
            "style": "IPY_MODEL_50350583a2e24924ba3db218bbe4b60f",
            "_dom_classes": [],
            "description": "",
            "_model_name": "HTMLModel",
            "placeholder": "​",
            "_view_module": "@jupyter-widgets/controls",
            "_model_module_version": "1.5.0",
            "value": " 25/25 [00:03&lt;00:00,  9.25it/s]",
            "_view_count": null,
            "_view_module_version": "1.5.0",
            "description_tooltip": null,
            "_model_module": "@jupyter-widgets/controls",
            "layout": "IPY_MODEL_19bfc3a518b741988f9c015f47ba832b"
          }
        },
        "16cdfa88d49048318eda938f481feccc": {
          "model_module": "@jupyter-widgets/controls",
          "model_name": "DescriptionStyleModel",
          "model_module_version": "1.5.0",
          "state": {
            "_view_name": "StyleView",
            "_model_name": "DescriptionStyleModel",
            "description_width": "",
            "_view_module": "@jupyter-widgets/base",
            "_model_module_version": "1.5.0",
            "_view_count": null,
            "_view_module_version": "1.2.0",
            "_model_module": "@jupyter-widgets/controls"
          }
        },
        "f64d8eeb1dea4b3daa463f1a30e42b24": {
          "model_module": "@jupyter-widgets/base",
          "model_name": "LayoutModel",
          "model_module_version": "1.2.0",
          "state": {
            "_view_name": "LayoutView",
            "grid_template_rows": null,
            "right": null,
            "justify_content": null,
            "_view_module": "@jupyter-widgets/base",
            "overflow": null,
            "_model_module_version": "1.2.0",
            "_view_count": null,
            "flex_flow": null,
            "width": null,
            "min_width": null,
            "border": null,
            "align_items": null,
            "bottom": null,
            "_model_module": "@jupyter-widgets/base",
            "top": null,
            "grid_column": null,
            "overflow_y": null,
            "overflow_x": null,
            "grid_auto_flow": null,
            "grid_area": null,
            "grid_template_columns": null,
            "flex": null,
            "_model_name": "LayoutModel",
            "justify_items": null,
            "grid_row": null,
            "max_height": null,
            "align_content": null,
            "visibility": null,
            "align_self": null,
            "height": null,
            "min_height": null,
            "padding": null,
            "grid_auto_rows": null,
            "grid_gap": null,
            "max_width": null,
            "order": null,
            "_view_module_version": "1.2.0",
            "grid_template_areas": null,
            "object_position": null,
            "object_fit": null,
            "grid_auto_columns": null,
            "margin": null,
            "display": null,
            "left": null
          }
        },
        "4556fd7ee7734085b97f93b607912072": {
          "model_module": "@jupyter-widgets/controls",
          "model_name": "ProgressStyleModel",
          "model_module_version": "1.5.0",
          "state": {
            "_view_name": "StyleView",
            "_model_name": "ProgressStyleModel",
            "description_width": "",
            "_view_module": "@jupyter-widgets/base",
            "_model_module_version": "1.5.0",
            "_view_count": null,
            "_view_module_version": "1.2.0",
            "bar_color": null,
            "_model_module": "@jupyter-widgets/controls"
          }
        },
        "924d798be72e4812ab461ae59f6c4d18": {
          "model_module": "@jupyter-widgets/base",
          "model_name": "LayoutModel",
          "model_module_version": "1.2.0",
          "state": {
            "_view_name": "LayoutView",
            "grid_template_rows": null,
            "right": null,
            "justify_content": null,
            "_view_module": "@jupyter-widgets/base",
            "overflow": null,
            "_model_module_version": "1.2.0",
            "_view_count": null,
            "flex_flow": null,
            "width": null,
            "min_width": null,
            "border": null,
            "align_items": null,
            "bottom": null,
            "_model_module": "@jupyter-widgets/base",
            "top": null,
            "grid_column": null,
            "overflow_y": null,
            "overflow_x": null,
            "grid_auto_flow": null,
            "grid_area": null,
            "grid_template_columns": null,
            "flex": null,
            "_model_name": "LayoutModel",
            "justify_items": null,
            "grid_row": null,
            "max_height": null,
            "align_content": null,
            "visibility": null,
            "align_self": null,
            "height": null,
            "min_height": null,
            "padding": null,
            "grid_auto_rows": null,
            "grid_gap": null,
            "max_width": null,
            "order": null,
            "_view_module_version": "1.2.0",
            "grid_template_areas": null,
            "object_position": null,
            "object_fit": null,
            "grid_auto_columns": null,
            "margin": null,
            "display": null,
            "left": null
          }
        },
        "50350583a2e24924ba3db218bbe4b60f": {
          "model_module": "@jupyter-widgets/controls",
          "model_name": "DescriptionStyleModel",
          "model_module_version": "1.5.0",
          "state": {
            "_view_name": "StyleView",
            "_model_name": "DescriptionStyleModel",
            "description_width": "",
            "_view_module": "@jupyter-widgets/base",
            "_model_module_version": "1.5.0",
            "_view_count": null,
            "_view_module_version": "1.2.0",
            "_model_module": "@jupyter-widgets/controls"
          }
        },
        "19bfc3a518b741988f9c015f47ba832b": {
          "model_module": "@jupyter-widgets/base",
          "model_name": "LayoutModel",
          "model_module_version": "1.2.0",
          "state": {
            "_view_name": "LayoutView",
            "grid_template_rows": null,
            "right": null,
            "justify_content": null,
            "_view_module": "@jupyter-widgets/base",
            "overflow": null,
            "_model_module_version": "1.2.0",
            "_view_count": null,
            "flex_flow": null,
            "width": null,
            "min_width": null,
            "border": null,
            "align_items": null,
            "bottom": null,
            "_model_module": "@jupyter-widgets/base",
            "top": null,
            "grid_column": null,
            "overflow_y": null,
            "overflow_x": null,
            "grid_auto_flow": null,
            "grid_area": null,
            "grid_template_columns": null,
            "flex": null,
            "_model_name": "LayoutModel",
            "justify_items": null,
            "grid_row": null,
            "max_height": null,
            "align_content": null,
            "visibility": null,
            "align_self": null,
            "height": null,
            "min_height": null,
            "padding": null,
            "grid_auto_rows": null,
            "grid_gap": null,
            "max_width": null,
            "order": null,
            "_view_module_version": "1.2.0",
            "grid_template_areas": null,
            "object_position": null,
            "object_fit": null,
            "grid_auto_columns": null,
            "margin": null,
            "display": null,
            "left": null
          }
        }
      }
    }
  },
  "cells": [
    {
      "cell_type": "markdown",
      "metadata": {
        "id": "view-in-github",
        "colab_type": "text"
      },
      "source": [
        "<a href=\"https://colab.research.google.com/github/Ron-Wu/deep-learning-test/blob/main/02face_identification_train.ipynb\" target=\"_parent\"><img src=\"https://colab.research.google.com/assets/colab-badge.svg\" alt=\"Open In Colab\"/></a>"
      ]
    },
    {
      "cell_type": "code",
      "metadata": {
        "id": "YvFSlaQaDgct",
        "colab": {
          "base_uri": "https://localhost:8080/"
        },
        "outputId": "db9b933c-1a4c-453c-afcb-bd5348c2ece9"
      },
      "source": [
        "%tensorflow_version 1.x"
      ],
      "execution_count": 1,
      "outputs": [
        {
          "output_type": "stream",
          "text": [
            "TensorFlow 1.x selected.\n"
          ],
          "name": "stdout"
        }
      ]
    },
    {
      "cell_type": "code",
      "metadata": {
        "id": "lY8Js9hTWRe4",
        "colab": {
          "base_uri": "https://localhost:8080/"
        },
        "outputId": "39e46b75-77a3-4570-94af-ffc2eaf6dd6f"
      },
      "source": [
        "!pip install mtcnn\n",
        "# !pip uninstall h5py\n",
        "!pip install h5py==2.10.0\n",
        "!pip install pprintpp"
      ],
      "execution_count": 3,
      "outputs": [
        {
          "output_type": "stream",
          "text": [
            "Requirement already satisfied: mtcnn in /usr/local/lib/python3.7/dist-packages (0.1.1)\n",
            "Requirement already satisfied: keras>=2.0.0 in /tensorflow-1.15.2/python3.7 (from mtcnn) (2.3.1)\n",
            "Requirement already satisfied: opencv-python>=4.1.0 in /usr/local/lib/python3.7/dist-packages (from mtcnn) (4.1.2.30)\n",
            "Requirement already satisfied: keras-preprocessing>=1.0.5 in /usr/local/lib/python3.7/dist-packages (from keras>=2.0.0->mtcnn) (1.1.2)\n",
            "Requirement already satisfied: numpy>=1.9.1 in /usr/local/lib/python3.7/dist-packages (from keras>=2.0.0->mtcnn) (1.19.5)\n",
            "Requirement already satisfied: six>=1.9.0 in /usr/local/lib/python3.7/dist-packages (from keras>=2.0.0->mtcnn) (1.15.0)\n",
            "Requirement already satisfied: pyyaml in /usr/local/lib/python3.7/dist-packages (from keras>=2.0.0->mtcnn) (3.13)\n",
            "Requirement already satisfied: keras-applications>=1.0.6 in /tensorflow-1.15.2/python3.7 (from keras>=2.0.0->mtcnn) (1.0.8)\n",
            "Requirement already satisfied: h5py in /usr/local/lib/python3.7/dist-packages (from keras>=2.0.0->mtcnn) (2.10.0)\n",
            "Requirement already satisfied: scipy>=0.14 in /usr/local/lib/python3.7/dist-packages (from keras>=2.0.0->mtcnn) (1.4.1)\n",
            "Requirement already satisfied: h5py==2.10.0 in /usr/local/lib/python3.7/dist-packages (2.10.0)\n",
            "Requirement already satisfied: numpy>=1.7 in /usr/local/lib/python3.7/dist-packages (from h5py==2.10.0) (1.19.5)\n",
            "Requirement already satisfied: six in /usr/local/lib/python3.7/dist-packages (from h5py==2.10.0) (1.15.0)\n",
            "Collecting pprintpp\n",
            "  Downloading pprintpp-0.4.0-py2.py3-none-any.whl (16 kB)\n",
            "Installing collected packages: pprintpp\n",
            "Successfully installed pprintpp-0.4.0\n"
          ],
          "name": "stdout"
        }
      ]
    },
    {
      "cell_type": "code",
      "metadata": {
        "colab": {
          "base_uri": "https://localhost:8080/"
        },
        "id": "PdhirtaYCIAV",
        "outputId": "70f9d54a-4154-40a2-a0d3-7a4db3d41e0e"
      },
      "source": [
        "# Download and unzip dataset\n",
        "# 下載、解壓縮 dataset\n",
        "!gdown --id 1RJ6MEDV9tYexOTAQDiWZ2bx8fO4HuUAu\n",
        "!unzip -q \"5celeb.zip\""
      ],
      "execution_count": 4,
      "outputs": [
        {
          "output_type": "stream",
          "text": [
            "Downloading...\n",
            "From: https://drive.google.com/uc?id=1RJ6MEDV9tYexOTAQDiWZ2bx8fO4HuUAu\n",
            "To: /content/5celeb.zip\n",
            "\r0.00B [00:00, ?B/s]\r2.73MB [00:00, 86.0MB/s]\n"
          ],
          "name": "stdout"
        }
      ]
    },
    {
      "cell_type": "code",
      "metadata": {
        "id": "Hl871cFnGNBn"
      },
      "source": [
        "# 引用套件\n",
        "import mtcnn\n",
        "from mtcnn import MTCNN\n",
        "import cv2\n",
        "import matplotlib.pyplot as plt\n",
        "import numpy as np\n",
        "import os\n",
        "from tqdm.auto import tqdm\n",
        "from glob import glob\n",
        "from tensorflow import keras\n",
        "from tensorflow.keras.layers import Input, Lambda, GlobalAveragePooling2D\n",
        "from tensorflow.keras.optimizers import Adam\n",
        "from tensorflow.keras.models import Model, load_model\n",
        "from tensorflow.keras.callbacks import EarlyStopping, ModelCheckpoint\n",
        "from tensorflow.keras.utils import plot_model\n",
        "import tensorflow.keras.backend as K\n",
        "from pprint import pprint"
      ],
      "execution_count": 5,
      "outputs": []
    },
    {
      "cell_type": "code",
      "metadata": {
        "id": "MlZYpxdgGNBq"
      },
      "source": [
        "FOLDER_PATH = '.'\n",
        "# 定義圖片大小\n",
        "IMG_SIZE = 160"
      ],
      "execution_count": 6,
      "outputs": []
    },
    {
      "cell_type": "code",
      "metadata": {
        "id": "ejAtkibMGNBs",
        "colab": {
          "base_uri": "https://localhost:8080/"
        },
        "outputId": "77805337-6ad6-4dbc-fd6c-a09078a1502a"
      },
      "source": [
        "detector = MTCNN()\n",
        "path_train = sorted(glob(os.path.join(FOLDER_PATH, '5celeb/data/train/*/*.jpg')))\n",
        "path_val = sorted(glob(os.path.join(FOLDER_PATH, '5celeb/data/val/*/*.jpg')))\n",
        "len(path_train), len(path_val)\n",
        "print(type(path_train), type(path_val))\n",
        "pprint(path_val)"
      ],
      "execution_count": 7,
      "outputs": [
        {
          "output_type": "stream",
          "text": [
            "WARNING:tensorflow:From /tensorflow-1.15.2/python3.7/tensorflow_core/python/ops/resource_variable_ops.py:1630: calling BaseResourceVariable.__init__ (from tensorflow.python.ops.resource_variable_ops) with constraint is deprecated and will be removed in a future version.\n",
            "Instructions for updating:\n",
            "If using Keras pass *_constraint arguments to layers.\n",
            "<class 'list'> <class 'list'>\n",
            "['./5celeb/data/val/ben_afflek/httpabsolumentgratuitfreefrimagesbenaffleckjpg.jpg',\n",
            " './5celeb/data/val/ben_afflek/httpafilesbiographycomimageuploadcfillcssrgbdprgfacehqwMTENDgMDUODczNDcNTcjpg.jpg',\n",
            " './5celeb/data/val/ben_afflek/httpbpblogspotcomedLMjVpRGkSWexgsXjkNIAAAAAAAADWgFFtAUqBlhAsjpg.jpg',\n",
            " './5celeb/data/val/ben_afflek/httpcsvkmeuaafdfjpg.jpg',\n",
            " './5celeb/data/val/ben_afflek/httpcsvkmeuadecafjpg.jpg',\n",
            " './5celeb/data/val/elton_john/httpafilesbiographycomimageuploadcfillcssrgbdprgfacehqwMTEODAOTcxNjcMjczMjkzjpg.jpg',\n",
            " './5celeb/data/val/elton_john/httpcdncdnjustjaredcomwpcontentuploadsheadlineseltonjohnemmysperformancewatchnowjpg.jpg',\n",
            " './5celeb/data/val/elton_john/httpcdncdnjustjaredcomwpcontentuploadsheadlineseltonjohnstillstandingbrooklynnewyearsjpg.jpg',\n",
            " './5celeb/data/val/elton_john/httpcdncdnjustjaredcomwpcontentuploadsheadlineseltonjohnsupportsbrucejennerstransitiontowomanjpg.jpg',\n",
            " './5celeb/data/val/elton_john/httpcdnlyricssongonlyricsnetwpcontentuploadsEltonJohnDiscographyCDreleasesjpg.jpg',\n",
            " './5celeb/data/val/jerry_seinfeld/httpafilesbiographycomimageuploadcfillcssrgbdprgfacehqwMTIwNjANjMMDINzIxNjcjpg.jpg',\n",
            " './5celeb/data/val/jerry_seinfeld/httpaurorasblogcomwpcontentuploadsjerryseinfeldpublicityshotjpg.jpg',\n",
            " './5celeb/data/val/jerry_seinfeld/httpblognjcomentertainmentimpactcelebritiesmediumjerrybjpg.jpg',\n",
            " './5celeb/data/val/jerry_seinfeld/httpcdncdnjustjaredcomwpcontentuploadsheadlinesjerryseinfeldmakesbrianwilliamsjokejpg.jpg',\n",
            " './5celeb/data/val/jerry_seinfeld/httpcdnssninsidercomwpcontentuploadsjerryseinfeldxjpg.jpg',\n",
            " './5celeb/data/val/madonna/httpassetsrollingstonecomassetsarticlemadonnadavidbowiechangedthecourseofmylifeforeversmallsquarexmadonnabowiejpg.jpg',\n",
            " './5celeb/data/val/madonna/httpassetsrollingstonecomassetsimagesalbumreviewaffaceabdcccaeedjpg.jpg',\n",
            " './5celeb/data/val/madonna/httpcdncdnjustjaredcomwpcontentuploadsheadlinesmadonnatalksparisattackstearsjpg.jpg',\n",
            " './5celeb/data/val/madonna/httpcdnfuncheapcomwpcontentuploadsVOGUEjpg.jpg',\n",
            " './5celeb/data/val/madonna/httpecximagesamazoncomimagesIfmaBKWLACULSRjpg.jpg',\n",
            " './5celeb/data/val/mindy_kaling/httpafilesbiographycomimageuploadcfillcssrgbdprgfacehqwMTIOTcwODQNTUzNjQMzcjpg.jpg',\n",
            " './5celeb/data/val/mindy_kaling/httpcdncdnjustjaredcomwpcontentuploadsheadlinesmindykalingcomedypilotjpg.jpg',\n",
            " './5celeb/data/val/mindy_kaling/httpcdnpastemagazinecomwwwarticlesmindykalingndbookjpg.jpg',\n",
            " './5celeb/data/val/mindy_kaling/httpcdnpastemagazinecomwwwarticlesmindyprojectjpg.jpg',\n",
            " './5celeb/data/val/mindy_kaling/httpdbrbzkkbdsdcloudfrontnetwpcontentuploadsMindyKalingjpg.jpg']\n"
          ],
          "name": "stdout"
        }
      ]
    },
    {
      "cell_type": "code",
      "metadata": {
        "id": "3k-BC9O8GNBv",
        "colab": {
          "base_uri": "https://localhost:8080/"
        },
        "outputId": "93d92acc-ba54-4f21-8419-d6128774c337"
      },
      "source": [
        "# extract names\n",
        "# 方法一\n",
        "# names = []\n",
        "# for path in path_train:\n",
        "#     name = path.split(os.sep)[-2]\n",
        "#     if name not in names:\n",
        "#         names.append(name)\n",
        "# names\n",
        "\n",
        "# 方法二\n",
        "name_s = set()\n",
        "for p in path_val:\n",
        "  name = p.split(\"/\")[4]\n",
        "  name_s.add(name)\n",
        "names = sorted(list(name_s))\n",
        "names"
      ],
      "execution_count": 13,
      "outputs": [
        {
          "output_type": "execute_result",
          "data": {
            "text/plain": [
              "['ben_afflek', 'elton_john', 'jerry_seinfeld', 'madonna', 'mindy_kaling']"
            ]
          },
          "metadata": {},
          "execution_count": 13
        }
      ]
    },
    {
      "cell_type": "code",
      "metadata": {
        "id": "ryr0NxLqGNBw",
        "colab": {
          "base_uri": "https://localhost:8080/"
        },
        "outputId": "613d7d3c-4b1e-44b5-9f11-4b79236850b6"
      },
      "source": [
        "#build class map\n",
        "cls_map = {}\n",
        "for i, name in enumerate(names):\n",
        "    cls_map[name] = int(i)\n",
        "cls_map"
      ],
      "execution_count": 14,
      "outputs": [
        {
          "output_type": "execute_result",
          "data": {
            "text/plain": [
              "{'ben_afflek': 0,\n",
              " 'elton_john': 1,\n",
              " 'jerry_seinfeld': 2,\n",
              " 'madonna': 3,\n",
              " 'mindy_kaling': 4}"
            ]
          },
          "metadata": {},
          "execution_count": 14
        }
      ]
    },
    {
      "cell_type": "code",
      "metadata": {
        "id": "MVXMjsx0GNBy"
      },
      "source": [
        "# load X(img), y(labels)\n",
        "# 抓出每一張人的人臉與類別都抓出來\n",
        "def load_data(paths):\n",
        "    X = np.zeros((len(paths), IMG_SIZE, IMG_SIZE, 3))\n",
        "    y = np.zeros((len(paths), 1), dtype=int)\n",
        "    for i, path in enumerate(tqdm(paths)): # tqdm():可以顯示出進度條\n",
        "        img = cv2.imread(path)[:,:,::-1]\n",
        "        results = detector.detect_faces(img)\n",
        "        x1, y1, width, height = results[0]['box']\n",
        "        x2, y2 = x1 + width, y1 + height\n",
        "        # cropping a image\n",
        "        # img[y1:y2, x1:x2].     shape(高、寬、通道)\n",
        "        patch = img[max(y1, 0): min(y2, img.shape[0]), max(x1, 0): min(x2, img.shape[1])] \n",
        "        # resize face\n",
        "        # resize(src, dsize[, dst[, fx[, fy[, interpolation]]]])\n",
        "        # src: 原圖片,  dsize: 輸出圖片所需大小\n",
        "        patch = cv2.resize(patch, (IMG_SIZE, IMG_SIZE))\n",
        "        name = path.split('/')[-2]\n",
        "        X[i] = patch\n",
        "        y[i] = cls_map[name]\n",
        "    return X, y"
      ],
      "execution_count": 25,
      "outputs": []
    },
    {
      "cell_type": "code",
      "metadata": {
        "id": "VbhwgQmDGNB0",
        "colab": {
          "base_uri": "https://localhost:8080/",
          "height": 81,
          "referenced_widgets": [
            "02b063a31a0845588cad3488de638db0",
            "392c2f4f6ada4afc8fa1a336f6b05c6e",
            "d0413bf6d962440ca98bd0200bba9df6",
            "fd1c49394fec4a2680474b7fda46418d",
            "17aa568001084c1c895582c3d30e5063",
            "dd444a8138ca4303a51cfdfa3ecfcd95",
            "71e79e358adf4d46a41a2ce1d8e689c5",
            "d8b39f906dd64e99b56f312eca4b1b30",
            "a4521123a44d41b583496fdd954324aa",
            "a5467462d7ca4fc383576a22eacbe1a7",
            "1fbcfb6a1e5a432489fbd96d73d5ffc6",
            "6a921acca4a64e2ea1f68ca1a9fde4c1",
            "84c0f573bc944a698fdb0025db7cf3dd",
            "22b6bab1eedc4accb6c7f4384ad142d0",
            "02032b10e903461eb9c5666b880c1227",
            "bc39cedb68dd47f0af90e8c9df9e515d",
            "16cdfa88d49048318eda938f481feccc",
            "f64d8eeb1dea4b3daa463f1a30e42b24",
            "4556fd7ee7734085b97f93b607912072",
            "924d798be72e4812ab461ae59f6c4d18",
            "50350583a2e24924ba3db218bbe4b60f",
            "19bfc3a518b741988f9c015f47ba832b"
          ]
        },
        "outputId": "add6de10-40a6-4838-dd98-c55bfbd941b1"
      },
      "source": [
        "X_train, y_train = load_data(path_train)\n",
        "X_val, y_val = load_data(path_val)"
      ],
      "execution_count": 16,
      "outputs": [
        {
          "output_type": "display_data",
          "data": {
            "application/vnd.jupyter.widget-view+json": {
              "model_id": "02b063a31a0845588cad3488de638db0",
              "version_minor": 0,
              "version_major": 2
            },
            "text/plain": [
              "  0%|          | 0/93 [00:00<?, ?it/s]"
            ]
          },
          "metadata": {}
        },
        {
          "output_type": "display_data",
          "data": {
            "application/vnd.jupyter.widget-view+json": {
              "model_id": "6a921acca4a64e2ea1f68ca1a9fde4c1",
              "version_minor": 0,
              "version_major": 2
            },
            "text/plain": [
              "  0%|          | 0/25 [00:00<?, ?it/s]"
            ]
          },
          "metadata": {}
        }
      ]
    },
    {
      "cell_type": "markdown",
      "metadata": {
        "id": "oEx1uZExJBLY"
      },
      "source": [
        "### Preprocess"
      ]
    },
    {
      "cell_type": "code",
      "metadata": {
        "id": "VUQq901qIsPJ"
      },
      "source": [
        "# 正規化：轉成0~1之間的normalization\n",
        "X_train = X_train / 255.\n",
        "X_val = X_val / 255."
      ],
      "execution_count": 26,
      "outputs": []
    },
    {
      "cell_type": "code",
      "metadata": {
        "id": "yo4bOBoMGNB2",
        "colab": {
          "base_uri": "https://localhost:8080/",
          "height": 1000
        },
        "outputId": "3f1b0e2b-55a2-45c1-b97b-ee32372c8364"
      },
      "source": [
        "for i in range(X_train.shape[0])[:5]:\n",
        "    print(y_train[i], names[y_train[i][0]])\n",
        "    plt.imshow(X_train[i])\n",
        "    plt.show()"
      ],
      "execution_count": 27,
      "outputs": [
        {
          "output_type": "stream",
          "text": [
            "[0] ben_afflek\n"
          ],
          "name": "stdout"
        },
        {
          "output_type": "display_data",
          "data": {
            "image/png": "[encoded data removed]",
            "text/plain": [
              "<Figure size 432x288 with 1 Axes>"
            ]
          },
          "metadata": {
            "needs_background": "light"
          }
        },
        {
          "output_type": "stream",
          "text": [
            "[0] ben_afflek\n"
          ],
          "name": "stdout"
        },
        {
          "output_type": "display_data",
          "data": {
            "image/png": "[encoded data removed]",
            "text/plain": [
              "<Figure size 432x288 with 1 Axes>"
            ]
          },
          "metadata": {
            "needs_background": "light"
          }
        },
        {
          "output_type": "stream",
          "text": [
            "[0] ben_afflek\n"
          ],
          "name": "stdout"
        },
        {
          "output_type": "display_data",
          "data": {
            "image/png": "[encoded data removed]",
            "text/plain": [
              "<Figure size 432x288 with 1 Axes>"
            ]
          },
          "metadata": {
            "needs_background": "light"
          }
        },
        {
          "output_type": "stream",
          "text": [
            "[0] ben_afflek\n"
          ],
          "name": "stdout"
        },
        {
          "output_type": "display_data",
          "data": {
            "image/png": "[encoded data removed]",
            "text/plain": [
              "<Figure size 432x288 with 1 Axes>"
            ]
          },
          "metadata": {
            "needs_background": "light"
          }
        },
        {
          "output_type": "stream",
          "text": [
            "[0] ben_afflek\n"
          ],
          "name": "stdout"
        },
        {
          "output_type": "display_data",
          "data": {
            "image/png": "[encoded data removed]",
            "text/plain": [
              "<Figure size 432x288 with 1 Axes>"
            ]
          },
          "metadata": {
            "needs_background": "light"
          }
        }
      ]
    },
    {
      "cell_type": "code",
      "metadata": {
        "id": "OYJKSOsWGNB9"
      },
      "source": [
        "def create_pairs(x, face_indices, num_classes):\n",
        "    '''Positive and negative pair creation.\n",
        "    Alternates between positive and negative pairs.\n",
        "    '''\n",
        "    pairs = []\n",
        "    labels = []\n",
        "    n = min([len(face_indices[d]) for d in range(num_classes)]) - 1\n",
        "    for d in range(num_classes):\n",
        "        for i in range(n):\n",
        "            # positive pairs\n",
        "            z1, z2 = face_indices[d][i], face_indices[d][i + 1]\n",
        "            pairs += [[x[z1], x[z2]]]\n",
        "            # negative pairs\n",
        "            inc = np.random.randint(1, num_classes)\n",
        "            dn = (d + inc) % num_classes\n",
        "            z1, z2 = face_indices[d][i], face_indices[dn][i]\n",
        "            pairs += [[x[z1], x[z2]]]\n",
        "            labels += [1, 0]\n",
        "    return np.array(pairs), np.array(labels)\n",
        "\n",
        "# create training+test positive and negative pairs\n",
        "face_indices = [np.where(y_train == i)[0] for i in range(len(names))]\n",
        "train_pairs, train_y = create_pairs(X_train, face_indices, num_classes=len(names))\n",
        "\n",
        "face_indices = [np.where(y_val == i)[0] for i in range(len(names))]\n",
        "val_pairs, val_y = create_pairs(X_val, face_indices, num_classes=len(names))"
      ],
      "execution_count": 19,
      "outputs": []
    },
    {
      "cell_type": "code",
      "metadata": {
        "id": "5V6FUlWDGNB_",
        "colab": {
          "base_uri": "https://localhost:8080/"
        },
        "outputId": "50daa11c-cffc-4ab0-f805-f00db59f5faf"
      },
      "source": [
        "train_pairs.shape, train_y.shape, val_pairs.shape, val_y.shape"
      ],
      "execution_count": 20,
      "outputs": [
        {
          "output_type": "execute_result",
          "data": {
            "text/plain": [
              "((130, 2, 160, 160, 3), (130,), (40, 2, 160, 160, 3), (40,))"
            ]
          },
          "metadata": {},
          "execution_count": 20
        }
      ]
    },
    {
      "cell_type": "code",
      "metadata": {
        "id": "PLpoXVndGNCB"
      },
      "source": [
        "def euclidean_distance(vects):\n",
        "    x, y = vects\n",
        "    sum_square = K.sum(K.square(x - y), axis=1, keepdims=True)\n",
        "    return K.sqrt(K.maximum(sum_square, K.epsilon()))\n",
        "\n",
        "\n",
        "def eucl_dist_output_shape(shapes):\n",
        "    shape1, shape2 = shapes\n",
        "    return (shape1[0], 1)\n",
        "\n",
        "\n",
        "def contrastive_loss(y_true, y_pred):\n",
        "    '''Contrastive loss from Hadsell-et-al.'06\n",
        "    http://yann.lecun.com/exdb/publis/pdf/hadsell-chopra-lecun-06.pdf\n",
        "    '''\n",
        "    margin = 1\n",
        "    square_pred = K.square(y_pred)\n",
        "    margin_square = K.square(K.maximum(margin - y_pred, 0))\n",
        "    return K.mean(y_true * square_pred + (1 - y_true) * margin_square)"
      ],
      "execution_count": 21,
      "outputs": []
    },
    {
      "cell_type": "code",
      "metadata": {
        "id": "rUi6hYJxGNCC",
        "colab": {
          "base_uri": "https://localhost:8080/"
        },
        "outputId": "76bc9712-d8f4-41c5-a63f-a773d9e31b56"
      },
      "source": [
        "# build model\n",
        "# network definition\n",
        "# 使用 resnet50 當 siamese network base\n",
        "base_network = keras.applications.resnet50.ResNet50(include_top=False, # 不需要分類層\n",
        "                                                    weights=None,      # 只需要模型架構，不需要原本的權重\n",
        "                                                    input_shape=(IMG_SIZE, IMG_SIZE, 3)) # 160x160 的彩圖\n",
        "# 用 Input() 把圖片變成張量，以利後續模型使用\n",
        "input_a = Input(shape=(IMG_SIZE, IMG_SIZE, 3))\n",
        "input_b = Input(shape=(IMG_SIZE, IMG_SIZE, 3))\n",
        "\n",
        "# because we re-use the same instance `base_network`,\n",
        "# the weights of the network\n",
        "# will be shared across the two branches\n",
        "global_avg = GlobalAveragePooling2D()\n",
        "processed_a = base_network(input_a) # 得到的是一個立體的feature map\n",
        "print(\"經過base network\", type(processed_a))\n",
        "processed_a = global_avg(processed_a) # 也可使用flattern\n",
        "print(\"經過global average\", type(processed_a))\n",
        "processed_b = base_network(input_b) # 得到的是一個立體的feature map\n",
        "processed_b = global_avg(processed_b)\n",
        "\n",
        "distance = Lambda(euclidean_distance,\n",
        "                  output_shape=eucl_dist_output_shape)([processed_a, processed_b])\n",
        "\n",
        "model = Model([input_a, input_b], distance)"
      ],
      "execution_count": 29,
      "outputs": [
        {
          "output_type": "stream",
          "text": [
            "經過base network <class 'tensorflow.python.framework.ops.Tensor'>\n",
            "經過global average <class 'tensorflow.python.framework.ops.Tensor'>\n"
          ],
          "name": "stdout"
        }
      ]
    },
    {
      "cell_type": "code",
      "metadata": {
        "id": "swKvg9umGNCE",
        "colab": {
          "base_uri": "https://localhost:8080/"
        },
        "outputId": "6f265713-63fd-4442-daf7-0962504f5a0d"
      },
      "source": [
        "model.summary()"
      ],
      "execution_count": 30,
      "outputs": [
        {
          "output_type": "stream",
          "text": [
            "Model: \"model_5\"\n",
            "__________________________________________________________________________________________________\n",
            "Layer (type)                    Output Shape         Param #     Connected to                     \n",
            "==================================================================================================\n",
            "input_11 (InputLayer)           [(None, 160, 160, 3) 0                                            \n",
            "__________________________________________________________________________________________________\n",
            "input_12 (InputLayer)           [(None, 160, 160, 3) 0                                            \n",
            "__________________________________________________________________________________________________\n",
            "resnet50 (Model)                (None, 5, 5, 2048)   23587712    input_11[0][0]                   \n",
            "                                                                 input_12[0][0]                   \n",
            "__________________________________________________________________________________________________\n",
            "global_average_pooling2d_2 (Glo (None, 2048)         0           resnet50[1][0]                   \n",
            "                                                                 resnet50[2][0]                   \n",
            "__________________________________________________________________________________________________\n",
            "lambda_2 (Lambda)               (None, 1)            0           global_average_pooling2d_2[0][0] \n",
            "                                                                 global_average_pooling2d_2[1][0] \n",
            "==================================================================================================\n",
            "Total params: 23,587,712\n",
            "Trainable params: 23,534,592\n",
            "Non-trainable params: 53,120\n",
            "__________________________________________________________________________________________________\n"
          ],
          "name": "stdout"
        }
      ]
    },
    {
      "cell_type": "code",
      "metadata": {
        "id": "8yzTIbpdKDPR",
        "colab": {
          "base_uri": "https://localhost:8080/",
          "height": 422
        },
        "outputId": "dcf8d818-fe2e-416a-d235-432685250b86"
      },
      "source": [
        "plot_model(model, show_shapes=True)"
      ],
      "execution_count": 31,
      "outputs": [
        {
          "output_type": "execute_result",
          "data": {
            "image/png": "[encoded data removed]",
            "text/plain": [
              "<IPython.core.display.Image object>"
            ]
          },
          "metadata": {},
          "execution_count": 31
        }
      ]
    },
    {
      "cell_type": "code",
      "metadata": {
        "id": "y2xKgIZzGNCG",
        "colab": {
          "base_uri": "https://localhost:8080/"
        },
        "outputId": "1aac65d6-293e-42eb-9b90-d59e0bf8eb3b"
      },
      "source": [
        "earlystop = EarlyStopping(patience=10)\n",
        "model_ckp = ModelCheckpoint(os.path.join('model_siamese.h5'), save_best_only=True, save_weights_only=False)\n",
        "\n",
        "# train\n",
        "model.compile(loss=contrastive_loss, optimizer='adam', metrics=[])\n",
        "model.fit([train_pairs[:, 0], train_pairs[:, 1]], train_y,\n",
        "          batch_size=32,\n",
        "          epochs=1000,\n",
        "          callbacks=[earlystop, model_ckp],\n",
        "          validation_data=([val_pairs[:, 0], val_pairs[:, 1]], val_y))"
      ],
      "execution_count": 24,
      "outputs": [
        {
          "output_type": "stream",
          "text": [
            "WARNING:tensorflow:From /tensorflow-1.15.2/python3.7/tensorflow_core/python/ops/math_grad.py:1424: where (from tensorflow.python.ops.array_ops) is deprecated and will be removed in a future version.\n",
            "Instructions for updating:\n",
            "Use tf.where in 2.0, which has the same broadcast rule as np.where\n",
            "Train on 130 samples, validate on 40 samples\n",
            "Epoch 1/1000\n",
            "130/130 [==============================] - 27s 204ms/sample - loss: 130.0797 - val_loss: 0.3124\n",
            "Epoch 2/1000\n",
            "130/130 [==============================] - 5s 41ms/sample - loss: 43.1484 - val_loss: 0.2919\n",
            "Epoch 3/1000\n",
            "130/130 [==============================] - 5s 40ms/sample - loss: 22.2978 - val_loss: 0.2874\n",
            "Epoch 4/1000\n",
            "130/130 [==============================] - 5s 40ms/sample - loss: 12.5434 - val_loss: 0.2809\n",
            "Epoch 5/1000\n",
            "130/130 [==============================] - 5s 40ms/sample - loss: 6.9798 - val_loss: 0.2741\n",
            "Epoch 6/1000\n",
            "130/130 [==============================] - 5s 40ms/sample - loss: 3.8096 - val_loss: 0.2696\n",
            "Epoch 7/1000\n",
            "130/130 [==============================] - 5s 40ms/sample - loss: 2.2888 - val_loss: 0.2686\n",
            "Epoch 8/1000\n",
            "130/130 [==============================] - 5s 40ms/sample - loss: 1.5694 - val_loss: 0.2686\n",
            "Epoch 9/1000\n",
            "130/130 [==============================] - 5s 40ms/sample - loss: 1.1545 - val_loss: 0.2663\n",
            "Epoch 10/1000\n",
            "130/130 [==============================] - 5s 40ms/sample - loss: 0.8909 - val_loss: 0.2634\n",
            "Epoch 11/1000\n",
            "130/130 [==============================] - 5s 40ms/sample - loss: 0.7345 - val_loss: 0.2585\n",
            "Epoch 12/1000\n",
            "130/130 [==============================] - 5s 40ms/sample - loss: 0.6482 - val_loss: 0.2524\n",
            "Epoch 13/1000\n",
            "130/130 [==============================] - 5s 40ms/sample - loss: 0.5539 - val_loss: 0.2459\n",
            "Epoch 14/1000\n",
            "130/130 [==============================] - 5s 40ms/sample - loss: 0.4990 - val_loss: 0.2394\n",
            "Epoch 15/1000\n",
            "130/130 [==============================] - 5s 42ms/sample - loss: 0.4551 - val_loss: 0.2341\n",
            "Epoch 16/1000\n",
            "130/130 [==============================] - 12s 93ms/sample - loss: 0.4232 - val_loss: 0.2299\n",
            "Epoch 17/1000\n",
            "130/130 [==============================] - 6s 43ms/sample - loss: 0.3874 - val_loss: 0.2267\n",
            "Epoch 18/1000\n",
            "130/130 [==============================] - 5s 40ms/sample - loss: 0.3680 - val_loss: 0.2251\n",
            "Epoch 19/1000\n",
            "130/130 [==============================] - 4s 33ms/sample - loss: 0.3446 - val_loss: 0.2257\n",
            "Epoch 20/1000\n",
            "130/130 [==============================] - 4s 33ms/sample - loss: 0.3297 - val_loss: 0.2285\n",
            "Epoch 21/1000\n",
            "130/130 [==============================] - 4s 33ms/sample - loss: 0.3163 - val_loss: 0.2325\n",
            "Epoch 22/1000\n",
            "130/130 [==============================] - 4s 33ms/sample - loss: 0.3085 - val_loss: 0.2377\n",
            "Epoch 23/1000\n",
            "130/130 [==============================] - 4s 33ms/sample - loss: 0.2949 - val_loss: 0.2434\n",
            "Epoch 24/1000\n",
            "130/130 [==============================] - 4s 33ms/sample - loss: 0.3025 - val_loss: 0.2501\n",
            "Epoch 25/1000\n",
            "130/130 [==============================] - 4s 33ms/sample - loss: 0.2814 - val_loss: 0.2592\n",
            "Epoch 26/1000\n",
            "130/130 [==============================] - 4s 33ms/sample - loss: 0.2775 - val_loss: 0.2682\n",
            "Epoch 27/1000\n",
            "130/130 [==============================] - 4s 33ms/sample - loss: 0.2727 - val_loss: 0.2766\n",
            "Epoch 28/1000\n",
            "130/130 [==============================] - 4s 33ms/sample - loss: 0.2624 - val_loss: 0.2815\n"
          ],
          "name": "stdout"
        },
        {
          "output_type": "execute_result",
          "data": {
            "text/plain": [
              "<tensorflow.python.keras.callbacks.History at 0x7f80df83ff10>"
            ]
          },
          "metadata": {},
          "execution_count": 24
        }
      ]
    },
    {
      "cell_type": "code",
      "metadata": {
        "colab": {
          "base_uri": "https://localhost:8080/"
        },
        "id": "GrzmLOo4ER3l",
        "outputId": "957d5135-d31b-41c7-bf7e-40d4e5aca922"
      },
      "source": [
        "#Download pretrained model\n",
        "# 下載老師已經預訓練好的權重\n",
        "!gdown --id 1JCo1g2sBkG-CwBbqOYlZ1KdGvRcjKTYV -O model.h5"
      ],
      "execution_count": 32,
      "outputs": [
        {
          "output_type": "stream",
          "text": [
            "Downloading...\n",
            "From: https://drive.google.com/uc?id=1JCo1g2sBkG-CwBbqOYlZ1KdGvRcjKTYV\n",
            "To: /content/model.h5\n",
            "283MB [00:03, 85.9MB/s]\n"
          ],
          "name": "stdout"
        }
      ]
    },
    {
      "cell_type": "code",
      "metadata": {
        "id": "-4H8zuhsGNCI"
      },
      "source": [
        "# load model\n",
        "# method1: compile=False 不要compile 因為在訓練時用到了客製化的 loss function (自定義的 contrastive_loss) \n",
        "# model = load_model('model.h5', compile=False)\n",
        "\n",
        "# method 2: 把客製化的 loss function 定義回來\n",
        "model = load_model('model.h5', custom_objects={'contrastive_loss': contrastive_loss})"
      ],
      "execution_count": 34,
      "outputs": []
    },
    {
      "cell_type": "code",
      "metadata": {
        "id": "a3_TSEB1GNCJ",
        "colab": {
          "base_uri": "https://localhost:8080/",
          "height": 555
        },
        "outputId": "2f4304aa-f938-429c-a7b6-be3fdf5bba18"
      },
      "source": [
        "# Evaluation\n",
        "# 可 sample 任一個 pair 秀出AB兩張圖\n",
        "idx = np.random.randint(0, val_pairs.shape[0])\n",
        "pair = val_pairs[idx]\n",
        "label = val_y[idx]\n",
        "imgA, imgB = pair[0], pair[1]\n",
        "plt.imshow(imgA)\n",
        "plt.show()\n",
        "plt.imshow(imgB)\n",
        "plt.show()\n",
        "print('label: ', label, ' val data shape: ',val_pairs[idx:idx+1].shape)\n",
        "print('Distance: ', model.predict([np.expand_dims(imgA, axis=0), np.expand_dims(imgB, axis=0)]))"
      ],
      "execution_count": 36,
      "outputs": [
        {
          "output_type": "display_data",
          "data": {
            "image/png": "[encoded data removed]",
            "text/plain": [
              "<Figure size 432x288 with 1 Axes>"
            ]
          },
          "metadata": {
            "needs_background": "light"
          }
        },
        {
          "output_type": "display_data",
          "data": {
            "image/png": "[encoded data removed]",
            "text/plain": [
              "<Figure size 432x288 with 1 Axes>"
            ]
          },
          "metadata": {
            "needs_background": "light"
          }
        },
        {
          "output_type": "stream",
          "text": [
            "label:  1  val data shape:  (1, 2, 160, 160, 3)\n",
            "Distance:  [[0.640033]]\n"
          ],
          "name": "stdout"
        }
      ]
    },
    {
      "cell_type": "code",
      "metadata": {
        "id": "4VNWaADdGNCM",
        "colab": {
          "base_uri": "https://localhost:8080/"
        },
        "outputId": "7e93e099-a4d1-49be-804f-f6d6aebd1b5d"
      },
      "source": [
        "all_pairs = np.concatenate((train_pairs, val_pairs))\n",
        "all_labels = np.concatenate((train_y, val_y))\n",
        "pprint(all_labels)"
      ],
      "execution_count": 41,
      "outputs": [
        {
          "output_type": "stream",
          "text": [
            "array([1, 0, 1, 0, 1, 0, 1, 0, 1, 0, 1, 0, 1, 0, 1, 0, 1, 0, 1, 0, 1, 0,\n",
            "       1, 0, 1, 0, 1, 0, 1, 0, 1, 0, 1, 0, 1, 0, 1, 0, 1, 0, 1, 0, 1, 0,\n",
            "       1, 0, 1, 0, 1, 0, 1, 0, 1, 0, 1, 0, 1, 0, 1, 0, 1, 0, 1, 0, 1, 0,\n",
            "       1, 0, 1, 0, 1, 0, 1, 0, 1, 0, 1, 0, 1, 0, 1, 0, 1, 0, 1, 0, 1, 0,\n",
            "       1, 0, 1, 0, 1, 0, 1, 0, 1, 0, 1, 0, 1, 0, 1, 0, 1, 0, 1, 0, 1, 0,\n",
            "       1, 0, 1, 0, 1, 0, 1, 0, 1, 0, 1, 0, 1, 0, 1, 0, 1, 0, 1, 0, 1, 0,\n",
            "       1, 0, 1, 0, 1, 0, 1, 0, 1, 0, 1, 0, 1, 0, 1, 0, 1, 0, 1, 0, 1, 0,\n",
            "       1, 0, 1, 0, 1, 0, 1, 0, 1, 0, 1, 0, 1, 0, 1, 0])\n"
          ],
          "name": "stdout"
        }
      ]
    },
    {
      "cell_type": "code",
      "metadata": {
        "colab": {
          "base_uri": "https://localhost:8080/"
        },
        "id": "IryVngqvUPEH",
        "outputId": "de5b7dd5-df02-456e-c38a-71621398a791"
      },
      "source": [
        "# np.concatenate 合併的功能，使用測試 \n",
        "a = np.array([1, 2, 3])\n",
        "b = np.array([7, 6, 5])\n",
        "ab = np.concatenate([a,b])\n",
        "abb = np.concatenate((a,b))\n",
        "print(ab)\n",
        "print(\"-\"*30)\n",
        "print(abb)"
      ],
      "execution_count": 38,
      "outputs": [
        {
          "output_type": "stream",
          "text": [
            "[1 2 3 7 6 5]\n",
            "------------------------------\n",
            "[1 2 3 7 6 5]\n"
          ],
          "name": "stdout"
        }
      ]
    },
    {
      "cell_type": "code",
      "metadata": {
        "id": "d39BxMygGNCR"
      },
      "source": [
        "positive_pairs = all_pairs[all_labels == 1]\n",
        "negative_pairs = all_pairs[all_labels == 0]"
      ],
      "execution_count": 40,
      "outputs": []
    },
    {
      "cell_type": "code",
      "metadata": {
        "id": "crIu31pNGNCT"
      },
      "source": [
        "positive_distances = model.predict([positive_pairs[:, 0], positive_pairs[:, 1]])\n",
        "negative_distances = model.predict([negative_pairs[:, 0], negative_pairs[:, 1]])"
      ],
      "execution_count": null,
      "outputs": []
    },
    {
      "cell_type": "code",
      "metadata": {
        "id": "_NqjjfSZGNCV",
        "colab": {
          "base_uri": "https://localhost:8080/",
          "height": 265
        },
        "outputId": "2ce741c1-62af-4760-d531-fca2b0b4be5e"
      },
      "source": [
        "plt.hist(negative_distances[:,0], bins=100, alpha=0.5)\n",
        "plt.hist(positive_distances[:,0], bins=100, alpha=0.5)\n",
        "plt.show()"
      ],
      "execution_count": null,
      "outputs": [
        {
          "output_type": "display_data",
          "data": {
            "image/png": "[encoded data removed]",
            "text/plain": [
              "<Figure size 432x288 with 1 Axes>"
            ]
          },
          "metadata": {
            "tags": [],
            "needs_background": "light"
          }
        }
      ]
    },
    {
      "cell_type": "code",
      "metadata": {
        "id": "V0In6-PcGNCW"
      },
      "source": [
        ""
      ],
      "execution_count": null,
      "outputs": []
    },
    {
      "cell_type": "code",
      "metadata": {
        "id": "nlUgDFniGNCY"
      },
      "source": [
        ""
      ],
      "execution_count": null,
      "outputs": []
    },
    {
      "cell_type": "code",
      "metadata": {
        "id": "9fE4hSRnGNCZ"
      },
      "source": [
        ""
      ],
      "execution_count": null,
      "outputs": []
    }
  ]
}
