{
  "nbformat": 4,
  "nbformat_minor": 0,
  "metadata": {
    "colab": {
      "name": "01_RNN basic.ipynb",
      "provenance": [],
      "collapsed_sections": [],
      "include_colab_link": true
    },
    "kernelspec": {
      "name": "python3",
      "display_name": "Python 3"
    }
  },
  "cells": [
    {
      "cell_type": "markdown",
      "metadata": {
        "id": "view-in-github",
        "colab_type": "text"
      },
      "source": [
        "<a href=\"https://colab.research.google.com/github/Ron-Wu/deep-learning-test/blob/main/RNN_01_RNN_basic.ipynb\" target=\"_parent\"><img src=\"https://colab.research.google.com/assets/colab-badge.svg\" alt=\"Open In Colab\"/></a>"
      ]
    },
    {
      "cell_type": "code",
      "metadata": {
        "id": "7MQTJpgXIZTb"
      },
      "source": [
        "import tensorflow as tf\n",
        "from tensorflow.keras import layers, models"
      ],
      "execution_count": null,
      "outputs": []
    },
    {
      "cell_type": "code",
      "metadata": {
        "id": "MyuU_zLAQTZ2"
      },
      "source": [
        "# 自行假造資料\n",
        "# Sample: 1 （batch size）\n",
        "# Sequence Length: 5 （幾個字、幾個詞、幾個時間點的資料）\n",
        "# feature dimension: 8 （）\n",
        "\n",
        "inputs = tf.random.normal([1, 5, 8])"
      ],
      "execution_count": null,
      "outputs": []
    },
    {
      "cell_type": "markdown",
      "metadata": {
        "id": "atmpBvPyLWCJ"
      },
      "source": [
        "# **基本操作 tf.keras.layers.LSTM**"
      ]
    },
    {
      "cell_type": "code",
      "metadata": {
        "id": "ad4M9eEwIddc",
        "colab": {
          "base_uri": "https://localhost:8080/"
        },
        "outputId": "a68fd693-7375-4984-fe88-68b113d003e8"
      },
      "source": [
        "# 此方法是會拿到預設的最後一個output 所以是只有一個 3\n",
        "output = layers.LSTM(units=3)(inputs) # input 經過 LSTM 後會輸出 3(units) 個數值\n",
        "\n",
        "# 若要拿到每一個時間點的 output 則需打開 return_sequences\n",
        "# output = layers.LSTM(units=3, return_sequences=True)(inputs)\n",
        "print(output.shape)"
      ],
      "execution_count": null,
      "outputs": [
        {
          "output_type": "stream",
          "name": "stdout",
          "text": [
            "(1, 3)\n"
          ]
        }
      ]
    },
    {
      "cell_type": "code",
      "metadata": {
        "id": "_t8D3p7dJ0vg",
        "colab": {
          "base_uri": "https://localhost:8080/"
        },
        "outputId": "b7985d12-b5bf-4d39-d8e7-582a6c932857"
      },
      "source": [
        "whole_seq_output, final_hiden_state, final_cell_state = layers.LSTM(3, \n",
        "                                                                    return_sequences=True, \n",
        "                                                                    return_state=True)(inputs) # return_state: 要不要拿最後一個時間點的 h 或 c\n",
        "\n",
        "print('whole_seq_output: ', whole_seq_output.shape, whole_seq_output)\n",
        "print('final_hiden_state (h): ', final_hiden_state.shape, final_hiden_state)\n",
        "print('final_cell_state (c): ', final_cell_state.shape, final_cell_state)"
      ],
      "execution_count": null,
      "outputs": [
        {
          "output_type": "stream",
          "name": "stdout",
          "text": [
            "whole_seq_output:  (1, 5, 3) tf.Tensor(\n",
            "[[[ 0.06889173 -0.09235358  0.03698412]\n",
            "  [ 0.08995336 -0.1472454   0.15110868]\n",
            "  [ 0.10181598 -0.21942852 -0.16049385]\n",
            "  [ 0.32207116 -0.11939575 -0.21545911]\n",
            "  [ 0.5908419  -0.02395671  0.00924962]]], shape=(1, 5, 3), dtype=float32)\n",
            "final_hiden_state (h):  (1, 3) tf.Tensor([[ 0.5908419  -0.02395671  0.00924962]], shape=(1, 3), dtype=float32)\n",
            "final_cell_state (c):  (1, 3) tf.Tensor([[ 1.1102977  -0.05478533  0.09565377]], shape=(1, 3), dtype=float32)\n"
          ]
        }
      ]
    },
    {
      "cell_type": "markdown",
      "metadata": {
        "id": "Cf8aLad2LX9w"
      },
      "source": [
        "#**基本操作 tf.keras.layers.GRU**"
      ]
    },
    {
      "cell_type": "code",
      "metadata": {
        "id": "9xxagyy9LYt_",
        "colab": {
          "base_uri": "https://localhost:8080/"
        },
        "outputId": "5ca48e9c-b79a-45ac-a0b9-0568ec59253a"
      },
      "source": [
        "output = layers.GRU(units=3)(inputs)\n",
        "print(output.shape)"
      ],
      "execution_count": null,
      "outputs": [
        {
          "output_type": "stream",
          "name": "stdout",
          "text": [
            "(1, 3)\n"
          ]
        }
      ]
    },
    {
      "cell_type": "code",
      "metadata": {
        "id": "x2THpViELlO5",
        "colab": {
          "base_uri": "https://localhost:8080/"
        },
        "outputId": "7263ba1d-0e5f-49cd-d702-34ee107e207d"
      },
      "source": [
        "whole_sequence_output, final_state = layers.GRU(3, \n",
        "                                                return_sequences=True, \n",
        "                                                return_state=True)(inputs)\n",
        "\n",
        "print('whole_seq_output: ', whole_sequence_output.shape, whole_sequence_output)\n",
        "print('final_state (h): ', final_state.shape, final_state)"
      ],
      "execution_count": null,
      "outputs": [
        {
          "output_type": "stream",
          "name": "stdout",
          "text": [
            "whole_seq_output:  (1, 5, 3) tf.Tensor(\n",
            "[[[-0.02089138  0.18337712 -0.10861841]\n",
            "  [-0.34097722  0.02825569 -0.01810227]\n",
            "  [-0.4342845   0.18450493  0.19738375]\n",
            "  [-0.09007354  0.28125226  0.14465015]\n",
            "  [-0.31058463  0.28994632  0.002272  ]]], shape=(1, 5, 3), dtype=float32)\n",
            "final_state (h):  (1, 3) tf.Tensor([[-0.31058463  0.28994632  0.002272  ]], shape=(1, 3), dtype=float32)\n"
          ]
        }
      ]
    },
    {
      "cell_type": "markdown",
      "metadata": {
        "id": "BLcEAbfIM7IT"
      },
      "source": [
        "#**基本操作 tf.keras.layers.Bidirectional**"
      ]
    },
    {
      "cell_type": "code",
      "metadata": {
        "id": "8aDkLkxeM-XQ",
        "colab": {
          "base_uri": "https://localhost:8080/"
        },
        "outputId": "cf61b458-951c-46ab-c73a-219671970d45"
      },
      "source": [
        "# 因為順向、逆向的ouput各有一個3，預設適用concat的方式加在一起，所以是3+3=6個\n",
        "output = layers.Bidirectional(layers.LSTM(3))(inputs) \n",
        "print(output.shape)"
      ],
      "execution_count": null,
      "outputs": [
        {
          "output_type": "stream",
          "name": "stdout",
          "text": [
            "(1, 6)\n"
          ]
        }
      ]
    },
    {
      "cell_type": "code",
      "metadata": {
        "id": "fMQkgBJ3NYeO",
        "colab": {
          "base_uri": "https://localhost:8080/"
        },
        "outputId": "20abf356-f34f-4e73-9c2f-b468d9e3fa88"
      },
      "source": [
        "# merge_mode: Sum\n",
        "# 可以藉由 merge_mode 把順向跟逆向直接加總\n",
        "output = layers.Bidirectional(layers.LSTM(3), \n",
        "                              merge_mode='sum')(inputs)\n",
        "print(output.shape)"
      ],
      "execution_count": null,
      "outputs": [
        {
          "output_type": "stream",
          "name": "stdout",
          "text": [
            "(1, 3)\n"
          ]
        }
      ]
    },
    {
      "cell_type": "code",
      "metadata": {
        "id": "pbBbk7e7NqOK",
        "colab": {
          "base_uri": "https://localhost:8080/"
        },
        "outputId": "53034753-e07b-49da-e1ae-c4709ed72c88"
      },
      "source": [
        "# return_sequences: True\n",
        "# sequence順向＝10，sequence逆向＝10，加總是 20\n",
        "output = layers.Bidirectional(layers.LSTM(10, return_sequences=True))(inputs)\n",
        "print(output.shape)"
      ],
      "execution_count": null,
      "outputs": [
        {
          "output_type": "stream",
          "name": "stdout",
          "text": [
            "(1, 5, 20)\n"
          ]
        }
      ]
    },
    {
      "cell_type": "code",
      "metadata": {
        "id": "u3Kh1ZkPNwtA",
        "colab": {
          "base_uri": "https://localhost:8080/"
        },
        "outputId": "00db48d0-4e23-45a8-b0b5-a4af578b0ddc"
      },
      "source": [
        "# return_sequences: True, \n",
        "output, forward_h, forward_c, backward_h, backward_c = layers.Bidirectional(layers.LSTM(2, return_sequences=True, return_state=True))(inputs)\n",
        "print('output : ', output.shape, output)\n",
        "print('forward_h : ', forward_h.shape, forward_h)\n",
        "print('forward_c : ', forward_c.shape, forward_c)\n",
        "print('backward_h : ', backward_h.shape, backward_h)\n",
        "print('backward_c : ', backward_c.shape, backward_c)\n"
      ],
      "execution_count": null,
      "outputs": [
        {
          "output_type": "stream",
          "name": "stdout",
          "text": [
            "output :  (1, 5, 4) tf.Tensor(\n",
            "[[[-0.08479135  0.4888602  -0.3043876   0.13769802]\n",
            "  [ 0.05028825  0.23609684  0.13861199  0.03518084]\n",
            "  [ 0.2617278  -0.00639235  0.09613106 -0.13443387]\n",
            "  [ 0.17807148 -0.0501023   0.10512983  0.05433476]\n",
            "  [ 0.3444419   0.10165996 -0.180297    0.13314675]]], shape=(1, 5, 4), dtype=float32)\n",
            "forward_h :  (1, 2) tf.Tensor([[0.3444419  0.10165996]], shape=(1, 2), dtype=float32)\n",
            "forward_c :  (1, 2) tf.Tensor([[0.7218553  0.23351777]], shape=(1, 2), dtype=float32)\n",
            "backward_h :  (1, 2) tf.Tensor([[-0.3043876   0.13769802]], shape=(1, 2), dtype=float32)\n",
            "backward_c :  (1, 2) tf.Tensor([[-0.40367544  0.2228234 ]], shape=(1, 2), dtype=float32)\n"
          ]
        }
      ]
    },
    {
      "cell_type": "markdown",
      "metadata": {
        "id": "kLmti2QISYyV"
      },
      "source": [
        "## **Many-to-one**"
      ]
    },
    {
      "cell_type": "code",
      "metadata": {
        "id": "mLX9Rho9SbbC",
        "colab": {
          "base_uri": "https://localhost:8080/"
        },
        "outputId": "70b68a43-151b-4427-9879-13d1b284de40"
      },
      "source": [
        "input = layers.Input(shape=(5, 8))\n",
        "x = layers.LSTM(2)(input)\n",
        "ouput = layers.Dense(10, activation='softmax')(x)\n",
        "model = models.Model(input, ouput)\n",
        "model.summary()"
      ],
      "execution_count": null,
      "outputs": [
        {
          "output_type": "stream",
          "name": "stdout",
          "text": [
            "Model: \"model\"\n",
            "_________________________________________________________________\n",
            "Layer (type)                 Output Shape              Param #   \n",
            "=================================================================\n",
            "input_1 (InputLayer)         [(None, 5, 8)]            0         \n",
            "_________________________________________________________________\n",
            "lstm_11 (LSTM)               (None, 2)                 88        \n",
            "_________________________________________________________________\n",
            "dense (Dense)                (None, 10)                30        \n",
            "=================================================================\n",
            "Total params: 118\n",
            "Trainable params: 118\n",
            "Non-trainable params: 0\n",
            "_________________________________________________________________\n"
          ]
        }
      ]
    },
    {
      "cell_type": "code",
      "metadata": {
        "id": "XT1W5B-2Td0m",
        "colab": {
          "base_uri": "https://localhost:8080/"
        },
        "outputId": "d57d8aa4-a42d-454f-e36d-d8932f842a95"
      },
      "source": [
        "# multi-layer\n",
        "# 疊多層模型，一定要把return_sequence打開，否則預設只會提供每層最後一個 output 值，會出錯\n",
        "input = layers.Input(shape=(5, 8))\n",
        "x1 = layers.LSTM(128, return_sequences=True)(input)\n",
        "x2 = layers.LSTM(256, return_sequences=True)(x1)\n",
        "x3 = layers.LSTM(10)(x2)\n",
        "ouput = layers.Dense(10, activation='softmax')(x3)\n",
        "model = models.Model(input, ouput)\n",
        "model.summary()"
      ],
      "execution_count": null,
      "outputs": [
        {
          "output_type": "stream",
          "name": "stdout",
          "text": [
            "Model: \"model_1\"\n",
            "_________________________________________________________________\n",
            "Layer (type)                 Output Shape              Param #   \n",
            "=================================================================\n",
            "input_2 (InputLayer)         [(None, 5, 8)]            0         \n",
            "_________________________________________________________________\n",
            "lstm_12 (LSTM)               (None, 5, 128)            70144     \n",
            "_________________________________________________________________\n",
            "lstm_13 (LSTM)               (None, 5, 256)            394240    \n",
            "_________________________________________________________________\n",
            "lstm_14 (LSTM)               (None, 10)                10680     \n",
            "_________________________________________________________________\n",
            "dense_1 (Dense)              (None, 10)                110       \n",
            "=================================================================\n",
            "Total params: 475,174\n",
            "Trainable params: 475,174\n",
            "Non-trainable params: 0\n",
            "_________________________________________________________________\n"
          ]
        }
      ]
    },
    {
      "cell_type": "code",
      "metadata": {
        "id": "XNoebK2JTsMN"
      },
      "source": [
        ""
      ],
      "execution_count": null,
      "outputs": []
    },
    {
      "cell_type": "markdown",
      "metadata": {
        "id": "xgYNk_0dUVyE"
      },
      "source": [
        "# **Many-to-many (same length)**"
      ]
    },
    {
      "cell_type": "code",
      "metadata": {
        "id": "3ThPhdZVUkRM",
        "colab": {
          "base_uri": "https://localhost:8080/"
        },
        "outputId": "51bf2a0a-b66e-454f-bff9-3f00c65e9121"
      },
      "source": [
        "input = layers.Input(shape=(50, 8))\n",
        "x = layers.LSTM(10, return_sequences=True)(input)\n",
        "output = layers.Dense(20, activation='softmax')(x)\n",
        "# output = layers.TimeDistributed(layers.Dense(20, activation='softmax'))(x)\n",
        "model = models.Model(input, output)\n",
        "model.summary()"
      ],
      "execution_count": null,
      "outputs": [
        {
          "output_type": "stream",
          "name": "stdout",
          "text": [
            "Model: \"model_2\"\n",
            "_________________________________________________________________\n",
            "Layer (type)                 Output Shape              Param #   \n",
            "=================================================================\n",
            "input_3 (InputLayer)         [(None, 50, 8)]           0         \n",
            "_________________________________________________________________\n",
            "lstm_15 (LSTM)               (None, 50, 10)            760       \n",
            "_________________________________________________________________\n",
            "dense_2 (Dense)              (None, 50, 20)            220       \n",
            "=================================================================\n",
            "Total params: 980\n",
            "Trainable params: 980\n",
            "Non-trainable params: 0\n",
            "_________________________________________________________________\n"
          ]
        }
      ]
    },
    {
      "cell_type": "markdown",
      "metadata": {
        "id": "ma9TzYCQWoh7"
      },
      "source": [
        "## Many-to-many (different length) : Seq2seq"
      ]
    },
    {
      "cell_type": "code",
      "metadata": {
        "id": "rN1gKJOzwkWd",
        "colab": {
          "base_uri": "https://localhost:8080/"
        },
        "outputId": "7e520dfa-defb-4749-c470-e105d8a6b944"
      },
      "source": [
        "input = layers.Input(shape=(50, 16))\n",
        "x = layers.LSTM(1)(input)\n",
        "model = models.Model(input, x)\n",
        "model.summary()"
      ],
      "execution_count": null,
      "outputs": [
        {
          "output_type": "stream",
          "name": "stdout",
          "text": [
            "Model: \"model_3\"\n",
            "_________________________________________________________________\n",
            "Layer (type)                 Output Shape              Param #   \n",
            "=================================================================\n",
            "input_4 (InputLayer)         [(None, 50, 16)]          0         \n",
            "_________________________________________________________________\n",
            "lstm_16 (LSTM)               (None, 1)                 72        \n",
            "=================================================================\n",
            "Total params: 72\n",
            "Trainable params: 72\n",
            "Non-trainable params: 0\n",
            "_________________________________________________________________\n"
          ]
        }
      ]
    }
  ]
}